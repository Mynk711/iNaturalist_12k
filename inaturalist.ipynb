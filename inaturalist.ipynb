{
 "cells": [
  {
   "cell_type": "code",
   "execution_count": 1,
   "id": "72664779d88cbb57",
   "metadata": {
    "ExecuteTime": {
     "end_time": "2023-08-11T11:03:55.906971700Z",
     "start_time": "2023-08-11T11:03:55.906971700Z"
    },
    "collapsed": false,
    "jupyter": {
     "outputs_hidden": false
    }
   },
   "outputs": [],
   "source": [
    "import numpy as np\n",
    "import cv2\n",
    "\n",
    "import PIL.Image as Image\n",
    "import os\n",
    "\n",
    "import matplotlib.pylab as plt\n",
    "\n",
    "import tensorflow as tf\n",
    "import tensorflow_hub as hub\n",
    "\n",
    "from tensorflow import keras\n",
    "from tensorflow.keras import layers\n",
    "from tensorflow.keras.models import Sequential"
   ]
  },
  {
   "cell_type": "code",
   "execution_count": 2,
   "id": "8a71358e9bc14f9e",
   "metadata": {
    "ExecuteTime": {
     "end_time": "2023-08-11T11:18:53.645064700Z",
     "start_time": "2023-08-11T11:18:53.618135100Z"
    },
    "collapsed": false,
    "jupyter": {
     "outputs_hidden": false
    }
   },
   "outputs": [],
   "source": [
    "data_dir = \"inaturalist_12K\""
   ]
  },
  {
   "cell_type": "code",
   "execution_count": 3,
   "id": "49d4b73268059801",
   "metadata": {
    "ExecuteTime": {
     "end_time": "2023-08-11T11:18:56.468807800Z",
     "start_time": "2023-08-11T11:18:56.452853600Z"
    },
    "collapsed": false,
    "jupyter": {
     "outputs_hidden": false
    }
   },
   "outputs": [
    {
     "data": {
      "text/plain": [
       "WindowsPath('inaturalist_12K')"
      ]
     },
     "execution_count": 3,
     "metadata": {},
     "output_type": "execute_result"
    }
   ],
   "source": [
    "import pathlib\n",
    "data_dir = pathlib.Path(data_dir)\n",
    "data_dir"
   ]
  },
  {
   "cell_type": "code",
   "execution_count": 4,
   "id": "d6c8900132faf505",
   "metadata": {
    "ExecuteTime": {
     "end_time": "2023-08-11T11:19:02.423333600Z",
     "start_time": "2023-08-11T11:19:02.335565700Z"
    },
    "collapsed": false,
    "jupyter": {
     "outputs_hidden": false
    }
   },
   "outputs": [
    {
     "name": "stdout",
     "output_type": "stream",
     "text": [
      "999\n"
     ]
    }
   ],
   "source": [
    "image_count = len(list(data_dir.glob('train/Fungi/*.jpg')))\n",
    "print(image_count)"
   ]
  },
  {
   "cell_type": "code",
   "execution_count": 5,
   "id": "4b9cc4503c457e20",
   "metadata": {
    "ExecuteTime": {
     "end_time": "2023-08-11T11:19:07.125472300Z",
     "start_time": "2023-08-11T11:19:06.816432100Z"
    },
    "collapsed": false,
    "jupyter": {
     "outputs_hidden": false
    }
   },
   "outputs": [],
   "source": [
    "data_images_dict = {\n",
    "    'amphibia': list(data_dir.glob('train/Amphibia/*')),\n",
    "    'animalia': list(data_dir.glob('train/Animalia/*')),\n",
    "    'arachnida': list(data_dir.glob('train/Arachnida/*')),\n",
    "    'aves': list(data_dir.glob('train/Aves/*')),\n",
    "    'fungi': list(data_dir.glob('train/Fungi/*')),\n",
    "    'insecta': list(data_dir.glob('train/Insecta/*')),\n",
    "    'mammalia': list(data_dir.glob('train/Mammalia/*')),\n",
    "    'molusca': list(data_dir.glob('train/Mollusca/*')),\n",
    "    'plantae': list(data_dir.glob('train/Plantae/*')),\n",
    "    'reptilia': list(data_dir.glob('train/Reptilia/*')),\n",
    "}"
   ]
  },
  {
   "cell_type": "code",
   "execution_count": 6,
   "id": "12dac1261916e3a6",
   "metadata": {
    "ExecuteTime": {
     "end_time": "2023-08-11T11:19:09.649037Z",
     "start_time": "2023-08-11T11:19:09.619119500Z"
    },
    "collapsed": false,
    "jupyter": {
     "outputs_hidden": false
    }
   },
   "outputs": [],
   "source": [
    "data_labels_dict = {\n",
    "    'amphibia': 0,\n",
    "    'animalia': 1,\n",
    "    'arachnida': 2,\n",
    "    'aves': 3,\n",
    "    'fungi': 4,\n",
    "    'insecta': 5,\n",
    "    'mammalia': 6,\n",
    "    'molusca': 7,\n",
    "    'plantae': 8,\n",
    "    'reptilia': 9,\n",
    "\n",
    "}"
   ]
  },
  {
   "cell_type": "code",
   "execution_count": 7,
   "id": "2e73a547f7ea44eb",
   "metadata": {
    "ExecuteTime": {
     "end_time": "2023-08-11T11:19:13.014630400Z",
     "start_time": "2023-08-11T11:19:12.964324500Z"
    },
    "collapsed": false,
    "jupyter": {
     "outputs_hidden": false
    }
   },
   "outputs": [
    {
     "data": {
      "text/plain": [
       "(601, 800, 3)"
      ]
     },
     "execution_count": 7,
     "metadata": {},
     "output_type": "execute_result"
    }
   ],
   "source": [
    "img = cv2.imread(str(data_images_dict['aves'][2]))\n",
    "img.shape\n"
   ]
  },
  {
   "cell_type": "code",
   "execution_count": null,
   "id": "initial_id",
   "metadata": {
    "ExecuteTime": {
     "end_time": "2023-08-11T11:25:49.958923300Z",
     "start_time": "2023-08-11T11:22:31.851129100Z"
    }
   },
   "outputs": [],
   "source": [
    "X_train, y_train = [], []\n",
    "\n",
    "for data_name, images in data_images_dict.items():\n",
    "    for image in images:\n",
    "        print(str(image))\n",
    "        if str(image)==\"inaturalist_12K\\\\train\\\\Fungi\\\\.DS_Store\":\n",
    "          continue\n",
    "        img = cv2.imread(str(image))\n",
    "        resized_img = cv2.resize(img,(224,224))\n",
    "        X_train.append(resized_img)\n",
    "        y_train.append(data_labels_dict[data_name])"
   ]
  },
  {
   "cell_type": "code",
   "execution_count": 9,
   "id": "e4d237e0b3f6d48",
   "metadata": {
    "ExecuteTime": {
     "end_time": "2023-08-11T11:26:28.616006800Z",
     "start_time": "2023-08-11T11:26:06.843009800Z"
    },
    "collapsed": false,
    "jupyter": {
     "outputs_hidden": false
    }
   },
   "outputs": [],
   "source": [
    "X_train = np.array(X_train)\n",
    "y_train = np.array(y_train)"
   ]
  },
  {
   "cell_type": "code",
   "execution_count": 10,
   "id": "37db7a90285aa63d",
   "metadata": {
    "ExecuteTime": {
     "end_time": "2023-08-11T11:26:32.631683600Z",
     "start_time": "2023-08-11T11:26:32.511846500Z"
    },
    "collapsed": false,
    "jupyter": {
     "outputs_hidden": false
    }
   },
   "outputs": [],
   "source": [
    "data_images_dict_test = {\n",
    "    'amphibia': list(data_dir.glob('val/Amphibia/*')),\n",
    "    'animalia': list(data_dir.glob('val/Animalia/*')),\n",
    "    'arachnida': list(data_dir.glob('val/Arachnida/*')),\n",
    "    'aves': list(data_dir.glob('val/Aves/*')),\n",
    "    'fungi': list(data_dir.glob('val/Fungi/*')),\n",
    "    'insecta': list(data_dir.glob('val/Insecta/*')),\n",
    "    'mammalia': list(data_dir.glob('val/Mammalia/*')),\n",
    "    'molusca': list(data_dir.glob('val/Mollusca/*')),\n",
    "    'plantae': list(data_dir.glob('val/Plantae/*')),\n",
    "    'reptilia': list(data_dir.glob('val/Reptilia/*')),\n",
    "}"
   ]
  },
  {
   "cell_type": "code",
   "execution_count": null,
   "id": "50dd7ff95dfb4152",
   "metadata": {
    "ExecuteTime": {
     "end_time": "2023-08-11T11:27:39.521196600Z",
     "start_time": "2023-08-11T11:26:48.995160200Z"
    },
    "collapsed": false,
    "jupyter": {
     "outputs_hidden": false
    }
   },
   "outputs": [],
   "source": [
    "X_test, y_test = [], []\n",
    "\n",
    "for data_name, images in data_images_dict_test.items():\n",
    "    for image in images:\n",
    "        print(str(image))\n",
    "        # if str(image)==\"/content/inaturalist_12K/train/Fungi/.DS_Store\":\n",
    "        #   continue\n",
    "        img = cv2.imread(str(image))\n",
    "        resized_img = cv2.resize(img,(224,224))\n",
    "        X_test.append(resized_img)\n",
    "        y_test.append(data_labels_dict[data_name])"
   ]
  },
  {
   "cell_type": "code",
   "execution_count": 12,
   "id": "7f498d53a120a6f4",
   "metadata": {
    "ExecuteTime": {
     "end_time": "2023-08-11T11:27:45.416456700Z",
     "start_time": "2023-08-11T11:27:45.157149200Z"
    },
    "collapsed": false,
    "jupyter": {
     "outputs_hidden": false
    }
   },
   "outputs": [],
   "source": [
    "X_test = np.array(X_test)\n",
    "y_test = np.array(y_test)"
   ]
  },
  {
   "cell_type": "code",
   "execution_count": 13,
   "id": "2e4f1ff8a6700da7",
   "metadata": {
    "ExecuteTime": {
     "end_time": "2023-08-11T12:08:17.846098600Z",
     "start_time": "2023-08-11T12:05:28.777497100Z"
    },
    "collapsed": false,
    "jupyter": {
     "outputs_hidden": false
    }
   },
   "outputs": [],
   "source": [
    "X_train_scaled = []\n",
    "for x_train in X_train:\n",
    "    x_train_scaled = x_train / 255\n",
    "    X_train_scaled.append(x_train_scaled)\n",
    "X_train_scaled = np.array(X_train_scaled)\n",
    "X_test_scaled = []\n",
    "for x_test in X_test:\n",
    "    x_test_scaled = x_test / 255\n",
    "    X_test_scaled.append(x_test_scaled)\n",
    "X_test_scaled = np.array(X_test_scaled)\n",
    "# X_train_scaled = X_train / 255\n",
    "# X_test_scaled = X_test / 255"
   ]
  },
  {
   "cell_type": "markdown",
   "id": "52fd4119",
   "metadata": {
    "collapsed": false,
    "jupyter": {
     "outputs_hidden": false
    }
   },
   "source": [
    "## Now take pre-trained model and retrain it using given images"
   ]
  },
  {
   "cell_type": "code",
   "execution_count": 14,
   "id": "95cd8aef",
   "metadata": {
    "collapsed": false,
    "jupyter": {
     "outputs_hidden": false
    }
   },
   "outputs": [],
   "source": [
    "feature_extractor_model = \"https://tfhub.dev/google/tf2-preview/mobilenet_v2/feature_vector/4\"\n",
    "\n",
    "pretrained_model_without_top_layer = hub.KerasLayer(\n",
    "    feature_extractor_model, input_shape=(224, 224, 3), trainable=False)"
   ]
  },
  {
   "cell_type": "code",
   "execution_count": 15,
   "id": "3a0e4a8f",
   "metadata": {
    "collapsed": false,
    "jupyter": {
     "outputs_hidden": false
    }
   },
   "outputs": [
    {
     "name": "stdout",
     "output_type": "stream",
     "text": [
      "Model: \"sequential\"\n",
      "_________________________________________________________________\n",
      " Layer (type)                Output Shape              Param #   \n",
      "=================================================================\n",
      " keras_layer (KerasLayer)    (None, 1280)              2257984   \n",
      "                                                                 \n",
      " dense (Dense)               (None, 10)                12810     \n",
      "                                                                 \n",
      "=================================================================\n",
      "Total params: 2270794 (8.66 MB)\n",
      "Trainable params: 12810 (50.04 KB)\n",
      "Non-trainable params: 2257984 (8.61 MB)\n",
      "_________________________________________________________________\n"
     ]
    }
   ],
   "source": [
    "num_of_classes = 10\n",
    "\n",
    "model = tf.keras.Sequential([\n",
    "  pretrained_model_without_top_layer,\n",
    "  tf.keras.layers.Dense(num_of_classes)\n",
    "])\n",
    "\n",
    "model.summary()"
   ]
  },
  {
   "cell_type": "code",
   "execution_count": 16,
   "id": "de963ce5",
   "metadata": {
    "collapsed": false,
    "jupyter": {
     "outputs_hidden": false
    }
   },
   "outputs": [
    {
     "name": "stdout",
     "output_type": "stream",
     "text": [
      "Epoch 1/30\n",
      "313/313 [==============================] - 178s 557ms/step - loss: 1.1379 - acc: 0.6239\n",
      "Epoch 2/30\n",
      "313/313 [==============================] - 171s 545ms/step - loss: 0.8342 - acc: 0.7272\n",
      "Epoch 3/30\n",
      "313/313 [==============================] - 170s 542ms/step - loss: 0.7445 - acc: 0.7532\n",
      "Epoch 4/30\n",
      "313/313 [==============================] - 165s 526ms/step - loss: 0.6906 - acc: 0.7725\n",
      "Epoch 5/30\n",
      "313/313 [==============================] - 164s 523ms/step - loss: 0.6455 - acc: 0.7865\n",
      "Epoch 6/30\n",
      "313/313 [==============================] - 167s 533ms/step - loss: 0.6076 - acc: 0.7990\n",
      "Epoch 7/30\n",
      "313/313 [==============================] - 168s 537ms/step - loss: 0.5784 - acc: 0.8087\n",
      "Epoch 8/30\n",
      "313/313 [==============================] - 168s 538ms/step - loss: 0.5521 - acc: 0.8194\n",
      "Epoch 9/30\n",
      "313/313 [==============================] - 169s 541ms/step - loss: 0.5299 - acc: 0.8264\n",
      "Epoch 10/30\n",
      "313/313 [==============================] - 168s 538ms/step - loss: 0.5065 - acc: 0.8343\n",
      "Epoch 11/30\n",
      "313/313 [==============================] - 169s 541ms/step - loss: 0.4865 - acc: 0.8412\n",
      "Epoch 12/30\n",
      "313/313 [==============================] - 168s 536ms/step - loss: 0.4722 - acc: 0.8456\n",
      "Epoch 13/30\n",
      "313/313 [==============================] - 168s 538ms/step - loss: 0.4563 - acc: 0.8531\n",
      "Epoch 14/30\n",
      "313/313 [==============================] - 168s 536ms/step - loss: 0.4435 - acc: 0.8582\n",
      "Epoch 15/30\n",
      "313/313 [==============================] - 168s 537ms/step - loss: 0.4289 - acc: 0.8605\n",
      "Epoch 16/30\n",
      "313/313 [==============================] - 168s 537ms/step - loss: 0.4173 - acc: 0.8656\n",
      "Epoch 17/30\n",
      "313/313 [==============================] - 167s 534ms/step - loss: 0.4022 - acc: 0.8758\n",
      "Epoch 18/30\n",
      "313/313 [==============================] - 167s 532ms/step - loss: 0.3935 - acc: 0.8744\n",
      "Epoch 19/30\n",
      "313/313 [==============================] - 169s 539ms/step - loss: 0.3849 - acc: 0.8790\n",
      "Epoch 20/30\n",
      "313/313 [==============================] - 169s 541ms/step - loss: 0.3757 - acc: 0.8782\n",
      "Epoch 21/30\n",
      "313/313 [==============================] - 169s 539ms/step - loss: 0.3664 - acc: 0.8844\n",
      "Epoch 22/30\n",
      "313/313 [==============================] - 169s 539ms/step - loss: 0.3569 - acc: 0.8864\n",
      "Epoch 23/30\n",
      "313/313 [==============================] - 169s 540ms/step - loss: 0.3495 - acc: 0.8905\n",
      "Epoch 24/30\n",
      "313/313 [==============================] - 169s 538ms/step - loss: 0.3394 - acc: 0.8963\n",
      "Epoch 25/30\n",
      "313/313 [==============================] - 170s 543ms/step - loss: 0.3318 - acc: 0.8966\n",
      "Epoch 26/30\n",
      "313/313 [==============================] - 169s 539ms/step - loss: 0.3288 - acc: 0.8967\n",
      "Epoch 27/30\n",
      "313/313 [==============================] - 169s 540ms/step - loss: 0.3183 - acc: 0.9028\n",
      "Epoch 28/30\n",
      "313/313 [==============================] - 168s 538ms/step - loss: 0.3133 - acc: 0.9048\n",
      "Epoch 29/30\n",
      "313/313 [==============================] - 169s 539ms/step - loss: 0.3045 - acc: 0.9085\n",
      "Epoch 30/30\n",
      "313/313 [==============================] - 169s 540ms/step - loss: 0.3000 - acc: 0.9094\n"
     ]
    },
    {
     "data": {
      "text/plain": [
       "<keras.src.callbacks.History at 0x2026c4e2520>"
      ]
     },
     "execution_count": 16,
     "metadata": {},
     "output_type": "execute_result"
    }
   ],
   "source": [
    "model.compile(\n",
    "  optimizer=\"adam\",\n",
    "  loss=tf.keras.losses.SparseCategoricalCrossentropy(from_logits=True),\n",
    "  metrics=['acc'])\n",
    "\n",
    "model.fit(X_train_scaled, y_train, epochs=30)"
   ]
  },
  {
   "cell_type": "code",
   "execution_count": 17,
   "id": "b7e38e8a",
   "metadata": {
    "collapsed": false,
    "jupyter": {
     "outputs_hidden": false
    }
   },
   "outputs": [
    {
     "name": "stdout",
     "output_type": "stream",
     "text": [
      "63/63 [==============================] - 32s 499ms/step - loss: 1.1136 - acc: 0.7045\n"
     ]
    },
    {
     "data": {
      "text/plain": [
       "[1.1135525703430176, 0.7045000195503235]"
      ]
     },
     "execution_count": 17,
     "metadata": {},
     "output_type": "execute_result"
    }
   ],
   "source": [
    "model.evaluate(X_test_scaled,y_test)"
   ]
  },
  {
   "cell_type": "code",
   "execution_count": 18,
   "id": "8b5c4e99",
   "metadata": {
    "collapsed": false,
    "jupyter": {
     "outputs_hidden": false
    }
   },
   "outputs": [],
   "source": [
    "model.save('Weights/naturalist_30.keras')"
   ]
  },
  {
   "cell_type": "code",
   "execution_count": null,
   "id": "2c152102",
   "metadata": {
    "collapsed": false,
    "jupyter": {
     "outputs_hidden": false
    }
   },
   "outputs": [],
   "source": [
    "\n",
    "model2 = keras.models.load_model('Weights/naturalist_30.keras')"
   ]
  },
  {
   "cell_type": "code",
   "execution_count": null,
   "id": "8df227f6",
   "metadata": {
    "collapsed": false,
    "jupyter": {
     "outputs_hidden": false
    }
   },
   "outputs": [],
   "source": []
  }
 ],
 "metadata": {
  "kernelspec": {
   "display_name": "Python 3",
   "language": "python",
   "name": "python3"
  },
  "language_info": {
   "codemirror_mode": {
    "name": "ipython",
    "version": 3
   },
   "file_extension": ".py",
   "mimetype": "text/x-python",
   "name": "python",
   "nbconvert_exporter": "python",
   "pygments_lexer": "ipython3",
   "version": "3.9.13"
  }
 },
 "nbformat": 4,
 "nbformat_minor": 5
}
