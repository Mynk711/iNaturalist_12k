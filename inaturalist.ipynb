{
 "cells": [
  {
   "cell_type": "code",
   "execution_count": 1,
   "id": "72664779d88cbb57",
   "metadata": {
    "ExecuteTime": {
     "end_time": "2023-08-11T11:03:55.906971700Z",
     "start_time": "2023-08-11T11:03:55.906971700Z"
    },
    "collapsed": false,
    "jupyter": {
     "outputs_hidden": false
    }
   },
   "outputs": [],
   "source": [
    "import numpy as np\n",
    "import cv2\n",
    "\n",
    "import PIL.Image as Image\n",
    "import os\n",
    "\n",
    "import matplotlib.pylab as plt\n",
    "\n",
    "import tensorflow as tf\n",
    "import tensorflow_hub as hub\n",
    "\n",
    "from tensorflow import keras\n",
    "from tensorflow.keras import layers\n",
    "from tensorflow.keras.models import Sequential"
   ]
  },
  {
   "cell_type": "code",
   "execution_count": 2,
   "id": "8a71358e9bc14f9e",
   "metadata": {
    "ExecuteTime": {
     "end_time": "2023-08-11T11:18:53.645064700Z",
     "start_time": "2023-08-11T11:18:53.618135100Z"
    },
    "collapsed": false,
    "jupyter": {
     "outputs_hidden": false
    }
   },
   "outputs": [],
   "source": [
    "data_dir = \"inaturalist_12K\""
   ]
  },
  {
   "cell_type": "code",
   "execution_count": 3,
   "id": "49d4b73268059801",
   "metadata": {
    "ExecuteTime": {
     "end_time": "2023-08-11T11:18:56.468807800Z",
     "start_time": "2023-08-11T11:18:56.452853600Z"
    },
    "collapsed": false,
    "jupyter": {
     "outputs_hidden": false
    }
   },
   "outputs": [
    {
     "data": {
      "text/plain": [
       "WindowsPath('inaturalist_12K')"
      ]
     },
     "execution_count": 3,
     "metadata": {},
     "output_type": "execute_result"
    }
   ],
   "source": [
    "import pathlib\n",
    "data_dir = pathlib.Path(data_dir)\n",
    "data_dir"
   ]
  },
  {
   "cell_type": "code",
   "execution_count": 4,
   "id": "d6c8900132faf505",
   "metadata": {
    "ExecuteTime": {
     "end_time": "2023-08-11T11:19:02.423333600Z",
     "start_time": "2023-08-11T11:19:02.335565700Z"
    },
    "collapsed": false,
    "jupyter": {
     "outputs_hidden": false
    }
   },
   "outputs": [
    {
     "name": "stdout",
     "output_type": "stream",
     "text": [
      "999\n"
     ]
    }
   ],
   "source": [
    "image_count = len(list(data_dir.glob('train/Fungi/*.jpg')))\n",
    "print(image_count)"
   ]
  },
  {
   "cell_type": "code",
   "execution_count": 5,
   "id": "4b9cc4503c457e20",
   "metadata": {
    "ExecuteTime": {
     "end_time": "2023-08-11T11:19:07.125472300Z",
     "start_time": "2023-08-11T11:19:06.816432100Z"
    },
    "collapsed": false,
    "jupyter": {
     "outputs_hidden": false
    }
   },
   "outputs": [],
   "source": [
    "data_images_dict = {\n",
    "    'amphibia': list(data_dir.glob('train/Amphibia/*')),\n",
    "    'animalia': list(data_dir.glob('train/Animalia/*')),\n",
    "    'arachnida': list(data_dir.glob('train/Arachnida/*')),\n",
    "    'aves': list(data_dir.glob('train/Aves/*')),\n",
    "    'fungi': list(data_dir.glob('train/Fungi/*')),\n",
    "    'insecta': list(data_dir.glob('train/Insecta/*')),\n",
    "    'mammalia': list(data_dir.glob('train/Mammalia/*')),\n",
    "    'molusca': list(data_dir.glob('train/Mollusca/*')),\n",
    "    'plantae': list(data_dir.glob('train/Plantae/*')),\n",
    "    'reptilia': list(data_dir.glob('train/Reptilia/*')),\n",
    "}"
   ]
  },
  {
   "cell_type": "code",
   "execution_count": 6,
   "id": "12dac1261916e3a6",
   "metadata": {
    "ExecuteTime": {
     "end_time": "2023-08-11T11:19:09.649037Z",
     "start_time": "2023-08-11T11:19:09.619119500Z"
    },
    "collapsed": false,
    "jupyter": {
     "outputs_hidden": false
    }
   },
   "outputs": [],
   "source": [
    "data_labels_dict = {\n",
    "    'amphibia': 0,\n",
    "    'animalia': 1,\n",
    "    'arachnida': 2,\n",
    "    'aves': 3,\n",
    "    'fungi': 4,\n",
    "    'insecta': 5,\n",
    "    'mammalia': 6,\n",
    "    'molusca': 7,\n",
    "    'plantae': 8,\n",
    "    'reptilia': 9,\n",
    "\n",
    "}"
   ]
  },
  {
   "cell_type": "code",
   "execution_count": 7,
   "id": "2e73a547f7ea44eb",
   "metadata": {
    "ExecuteTime": {
     "end_time": "2023-08-11T11:19:13.014630400Z",
     "start_time": "2023-08-11T11:19:12.964324500Z"
    },
    "collapsed": false,
    "jupyter": {
     "outputs_hidden": false
    }
   },
   "outputs": [
    {
     "data": {
      "text/plain": [
       "(601, 800, 3)"
      ]
     },
     "execution_count": 7,
     "metadata": {},
     "output_type": "execute_result"
    }
   ],
   "source": [
    "img = cv2.imread(str(data_images_dict['aves'][2]))\n",
    "img.shape\n"
   ]
  },
  {
   "cell_type": "code",
   "execution_count": null,
   "id": "initial_id",
   "metadata": {
    "ExecuteTime": {
     "end_time": "2023-08-11T11:25:49.958923300Z",
     "start_time": "2023-08-11T11:22:31.851129100Z"
    }
   },
   "outputs": [],
   "source": [
    "X_train, y_train = [], []\n",
    "\n",
    "for data_name, images in data_images_dict.items():\n",
    "    for image in images:\n",
    "        print(str(image))\n",
    "        if str(image)==\"inaturalist_12K\\\\train\\\\Fungi\\\\.DS_Store\":\n",
    "          continue\n",
    "        img = cv2.imread(str(image))\n",
    "        resized_img = cv2.resize(img,(224,224))\n",
    "        X_train.append(resized_img)\n",
    "        y_train.append(data_labels_dict[data_name])"
   ]
  },
  {
   "cell_type": "code",
   "execution_count": 9,
   "id": "e4d237e0b3f6d48",
   "metadata": {
    "ExecuteTime": {
     "end_time": "2023-08-11T11:26:28.616006800Z",
     "start_time": "2023-08-11T11:26:06.843009800Z"
    },
    "collapsed": false,
    "jupyter": {
     "outputs_hidden": false
    }
   },
   "outputs": [],
   "source": [
    "X_train = np.array(X_train)\n",
    "y_train = np.array(y_train)"
   ]
  },
  {
   "cell_type": "code",
   "execution_count": 10,
   "id": "37db7a90285aa63d",
   "metadata": {
    "ExecuteTime": {
     "end_time": "2023-08-11T11:26:32.631683600Z",
     "start_time": "2023-08-11T11:26:32.511846500Z"
    },
    "collapsed": false,
    "jupyter": {
     "outputs_hidden": false
    }
   },
   "outputs": [],
   "source": [
    "data_images_dict_test = {\n",
    "    'amphibia': list(data_dir.glob('val/Amphibia/*')),\n",
    "    'animalia': list(data_dir.glob('val/Animalia/*')),\n",
    "    'arachnida': list(data_dir.glob('val/Arachnida/*')),\n",
    "    'aves': list(data_dir.glob('val/Aves/*')),\n",
    "    'fungi': list(data_dir.glob('val/Fungi/*')),\n",
    "    'insecta': list(data_dir.glob('val/Insecta/*')),\n",
    "    'mammalia': list(data_dir.glob('val/Mammalia/*')),\n",
    "    'molusca': list(data_dir.glob('val/Mollusca/*')),\n",
    "    'plantae': list(data_dir.glob('val/Plantae/*')),\n",
    "    'reptilia': list(data_dir.glob('val/Reptilia/*')),\n",
    "}"
   ]
  },
  {
   "cell_type": "code",
   "execution_count": null,
   "id": "50dd7ff95dfb4152",
   "metadata": {
    "ExecuteTime": {
     "end_time": "2023-08-11T11:27:39.521196600Z",
     "start_time": "2023-08-11T11:26:48.995160200Z"
    },
    "collapsed": false,
    "jupyter": {
     "outputs_hidden": false
    }
   },
   "outputs": [],
   "source": [
    "X_test, y_test = [], []\n",
    "\n",
    "for data_name, images in data_images_dict_test.items():\n",
    "    for image in images:\n",
    "        print(str(image))\n",
    "        # if str(image)==\"/content/inaturalist_12K/train/Fungi/.DS_Store\":\n",
    "        #   continue\n",
    "        img = cv2.imread(str(image))\n",
    "        resized_img = cv2.resize(img,(224,224))\n",
    "        X_test.append(resized_img)\n",
    "        y_test.append(data_labels_dict[data_name])"
   ]
  },
  {
   "cell_type": "code",
   "execution_count": 12,
   "id": "7f498d53a120a6f4",
   "metadata": {
    "ExecuteTime": {
     "end_time": "2023-08-11T11:27:45.416456700Z",
     "start_time": "2023-08-11T11:27:45.157149200Z"
    },
    "collapsed": false,
    "jupyter": {
     "outputs_hidden": false
    }
   },
   "outputs": [],
   "source": [
    "X_test = np.array(X_test)\n",
    "y_test = np.array(y_test)"
   ]
  },
  {
   "cell_type": "code",
   "execution_count": 13,
   "id": "2e4f1ff8a6700da7",
   "metadata": {
    "ExecuteTime": {
     "end_time": "2023-08-11T12:08:17.846098600Z",
     "start_time": "2023-08-11T12:05:28.777497100Z"
    },
    "collapsed": false,
    "jupyter": {
     "outputs_hidden": false
    }
   },
   "outputs": [],
   "source": [
    "X_train_scaled = []\n",
    "for x_train in X_train:\n",
    "    x_train_scaled = x_train / 255\n",
    "    X_train_scaled.append(x_train_scaled)\n",
    "X_train_scaled = np.array(X_train_scaled)\n",
    "X_test_scaled = []\n",
    "for x_test in X_test:\n",
    "    x_test_scaled = x_test / 255\n",
    "    X_test_scaled.append(x_test_scaled)\n",
    "X_test_scaled = np.array(X_test_scaled)\n",
    "# X_train_scaled = X_train / 255\n",
    "# X_test_scaled = X_test / 255"
   ]
  },
  {
   "cell_type": "markdown",
   "id": "52fd4119",
   "metadata": {
    "collapsed": false,
    "jupyter": {
     "outputs_hidden": false
    }
   },
   "source": [
    "## Now take pre-trained model and retrain it using given images"
   ]
  },
  {
   "cell_type": "code",
   "execution_count": 14,
   "id": "95cd8aef",
   "metadata": {
    "collapsed": false,
    "jupyter": {
     "outputs_hidden": false
    }
   },
   "outputs": [],
   "source": [
    "feature_extractor_model = \"https://tfhub.dev/google/tf2-preview/mobilenet_v2/feature_vector/4\"\n",
    "\n",
    "pretrained_model_without_top_layer = hub.KerasLayer(\n",
    "    feature_extractor_model, input_shape=(224, 224, 3), trainable=False)"
   ]
  },
  {
   "cell_type": "code",
   "execution_count": 15,
   "id": "3a0e4a8f",
   "metadata": {
    "collapsed": false,
    "jupyter": {
     "outputs_hidden": false
    }
   },
   "outputs": [
    {
     "name": "stdout",
     "output_type": "stream",
     "text": [
      "Model: \"sequential\"\n",
      "_________________________________________________________________\n",
      " Layer (type)                Output Shape              Param #   \n",
      "=================================================================\n",
      " keras_layer (KerasLayer)    (None, 1280)              2257984   \n",
      "                                                                 \n",
      " dense (Dense)               (None, 10)                12810     \n",
      "                                                                 \n",
      "=================================================================\n",
      "Total params: 2270794 (8.66 MB)\n",
      "Trainable params: 12810 (50.04 KB)\n",
      "Non-trainable params: 2257984 (8.61 MB)\n",
      "_________________________________________________________________\n"
     ]
    }
   ],
   "source": [
    "num_of_classes = 10\n",
    "\n",
    "model = tf.keras.Sequential([\n",
    "  pretrained_model_without_top_layer,\n",
    "  tf.keras.layers.Dense(num_of_classes)\n",
    "])\n",
    "\n",
    "model.summary()"
   ]
  },
  {
   "cell_type": "code",
   "execution_count": 16,
   "id": "de963ce5",
   "metadata": {
    "collapsed": false,
    "jupyter": {
     "outputs_hidden": false
    }
   },
   "outputs": [
    {
     "name": "stdout",
     "output_type": "stream",
     "text": [
      "Epoch 1/30\n",
      "313/313 [==============================] - 178s 557ms/step - loss: 1.1379 - acc: 0.6239\n",
      "Epoch 2/30\n",
      "313/313 [==============================] - 171s 545ms/step - loss: 0.8342 - acc: 0.7272\n",
      "Epoch 3/30\n",
      "313/313 [==============================] - 170s 542ms/step - loss: 0.7445 - acc: 0.7532\n",
      "Epoch 4/30\n",
      "313/313 [==============================] - 165s 526ms/step - loss: 0.6906 - acc: 0.7725\n",
      "Epoch 5/30\n",
      "313/313 [==============================] - 164s 523ms/step - loss: 0.6455 - acc: 0.7865\n",
      "Epoch 6/30\n",
      "313/313 [==============================] - 167s 533ms/step - loss: 0.6076 - acc: 0.7990\n",
      "Epoch 7/30\n",
      "313/313 [==============================] - 168s 537ms/step - loss: 0.5784 - acc: 0.8087\n",
      "Epoch 8/30\n",
      "313/313 [==============================] - 168s 538ms/step - loss: 0.5521 - acc: 0.8194\n",
      "Epoch 9/30\n",
      "313/313 [==============================] - 169s 541ms/step - loss: 0.5299 - acc: 0.8264\n",
      "Epoch 10/30\n",
      "313/313 [==============================] - 168s 538ms/step - loss: 0.5065 - acc: 0.8343\n",
      "Epoch 11/30\n",
      "313/313 [==============================] - 169s 541ms/step - loss: 0.4865 - acc: 0.8412\n",
      "Epoch 12/30\n",
      "313/313 [==============================] - 168s 536ms/step - loss: 0.4722 - acc: 0.8456\n",
      "Epoch 13/30\n",
      "313/313 [==============================] - 168s 538ms/step - loss: 0.4563 - acc: 0.8531\n",
      "Epoch 14/30\n",
      "313/313 [==============================] - 168s 536ms/step - loss: 0.4435 - acc: 0.8582\n",
      "Epoch 15/30\n",
      "313/313 [==============================] - 168s 537ms/step - loss: 0.4289 - acc: 0.8605\n",
      "Epoch 16/30\n",
      "313/313 [==============================] - 168s 537ms/step - loss: 0.4173 - acc: 0.8656\n",
      "Epoch 17/30\n",
      "313/313 [==============================] - 167s 534ms/step - loss: 0.4022 - acc: 0.8758\n",
      "Epoch 18/30\n",
      "313/313 [==============================] - 167s 532ms/step - loss: 0.3935 - acc: 0.8744\n",
      "Epoch 19/30\n",
      "313/313 [==============================] - 169s 539ms/step - loss: 0.3849 - acc: 0.8790\n",
      "Epoch 20/30\n",
      "313/313 [==============================] - 169s 541ms/step - loss: 0.3757 - acc: 0.8782\n",
      "Epoch 21/30\n",
      "313/313 [==============================] - 169s 539ms/step - loss: 0.3664 - acc: 0.8844\n",
      "Epoch 22/30\n",
      "313/313 [==============================] - 169s 539ms/step - loss: 0.3569 - acc: 0.8864\n",
      "Epoch 23/30\n",
      "313/313 [==============================] - 169s 540ms/step - loss: 0.3495 - acc: 0.8905\n",
      "Epoch 24/30\n",
      "313/313 [==============================] - 169s 538ms/step - loss: 0.3394 - acc: 0.8963\n",
      "Epoch 25/30\n",
      "313/313 [==============================] - 170s 543ms/step - loss: 0.3318 - acc: 0.8966\n",
      "Epoch 26/30\n",
      "313/313 [==============================] - 169s 539ms/step - loss: 0.3288 - acc: 0.8967\n",
      "Epoch 27/30\n",
      "313/313 [==============================] - 169s 540ms/step - loss: 0.3183 - acc: 0.9028\n",
      "Epoch 28/30\n",
      "313/313 [==============================] - 168s 538ms/step - loss: 0.3133 - acc: 0.9048\n",
      "Epoch 29/30\n",
      "313/313 [==============================] - 169s 539ms/step - loss: 0.3045 - acc: 0.9085\n",
      "Epoch 30/30\n",
      "313/313 [==============================] - 169s 540ms/step - loss: 0.3000 - acc: 0.9094\n"
     ]
    },
    {
     "data": {
      "text/plain": [
       "<keras.src.callbacks.History at 0x2026c4e2520>"
      ]
     },
     "execution_count": 16,
     "metadata": {},
     "output_type": "execute_result"
    }
   ],
   "source": [
    "model.compile(\n",
    "  optimizer=\"adam\",\n",
    "  loss=tf.keras.losses.SparseCategoricalCrossentropy(from_logits=True),\n",
    "  metrics=['acc'])\n",
    "\n",
    "model.fit(X_train_scaled, y_train, epochs=30)"
   ]
  },
  {
   "cell_type": "code",
   "execution_count": 17,
   "id": "b7e38e8a",
   "metadata": {
    "collapsed": false,
    "jupyter": {
     "outputs_hidden": false
    }
   },
   "outputs": [
    {
     "name": "stdout",
     "output_type": "stream",
     "text": [
      "63/63 [==============================] - 32s 499ms/step - loss: 1.1136 - acc: 0.7045\n"
     ]
    },
    {
     "data": {
      "text/plain": [
       "[1.1135525703430176, 0.7045000195503235]"
      ]
     },
     "execution_count": 17,
     "metadata": {},
     "output_type": "execute_result"
    }
   ],
   "source": [
    "model.evaluate(X_test_scaled,y_test)"
   ]
  },
  {
   "cell_type": "code",
   "execution_count": 18,
   "id": "8b5c4e99",
   "metadata": {
    "collapsed": false,
    "jupyter": {
     "outputs_hidden": false
    }
   },
   "outputs": [],
   "source": [
    "model.save('Weights/naturalist_30.keras')"
   ]
  },
  {
   "cell_type": "code",
   "execution_count": 19,
   "id": "2c152102",
   "metadata": {
    "collapsed": false,
    "jupyter": {
     "outputs_hidden": false
    }
   },
   "outputs": [
    {
     "ename": "TypeError",
     "evalue": "The added layer must be an instance of class Layer. Received: layer=KerasLayer of type <class 'str'>.",
     "output_type": "error",
     "traceback": [
      "\u001b[1;31m---------------------------------------------------------------------------\u001b[0m",
      "\u001b[1;31mTypeError\u001b[0m                                 Traceback (most recent call last)",
      "Cell \u001b[1;32mIn[19], line 1\u001b[0m\n\u001b[1;32m----> 1\u001b[0m model2 \u001b[38;5;241m=\u001b[39m \u001b[43mkeras\u001b[49m\u001b[38;5;241;43m.\u001b[39;49m\u001b[43mmodels\u001b[49m\u001b[38;5;241;43m.\u001b[39;49m\u001b[43mload_model\u001b[49m\u001b[43m(\u001b[49m\u001b[38;5;124;43m'\u001b[39;49m\u001b[38;5;124;43mWeights/naturalist_30.keras\u001b[39;49m\u001b[38;5;124;43m'\u001b[39;49m\u001b[43m)\u001b[49m\n",
      "File \u001b[1;32m~\\PycharmProjects\\ClassificationProject\\Classification\\lib\\site-packages\\keras\\src\\saving\\saving_api.py:230\u001b[0m, in \u001b[0;36mload_model\u001b[1;34m(filepath, custom_objects, compile, safe_mode, **kwargs)\u001b[0m\n\u001b[0;32m    225\u001b[0m     \u001b[38;5;28;01mif\u001b[39;00m kwargs:\n\u001b[0;32m    226\u001b[0m         \u001b[38;5;28;01mraise\u001b[39;00m \u001b[38;5;167;01mValueError\u001b[39;00m(\n\u001b[0;32m    227\u001b[0m             \u001b[38;5;124m\"\u001b[39m\u001b[38;5;124mThe following argument(s) are not supported \u001b[39m\u001b[38;5;124m\"\u001b[39m\n\u001b[0;32m    228\u001b[0m             \u001b[38;5;124mf\u001b[39m\u001b[38;5;124m\"\u001b[39m\u001b[38;5;124mwith the native Keras format: \u001b[39m\u001b[38;5;132;01m{\u001b[39;00m\u001b[38;5;28mlist\u001b[39m(kwargs\u001b[38;5;241m.\u001b[39mkeys())\u001b[38;5;132;01m}\u001b[39;00m\u001b[38;5;124m\"\u001b[39m\n\u001b[0;32m    229\u001b[0m         )\n\u001b[1;32m--> 230\u001b[0m     \u001b[38;5;28;01mreturn\u001b[39;00m \u001b[43msaving_lib\u001b[49m\u001b[38;5;241;43m.\u001b[39;49m\u001b[43mload_model\u001b[49m\u001b[43m(\u001b[49m\n\u001b[0;32m    231\u001b[0m \u001b[43m        \u001b[49m\u001b[43mfilepath\u001b[49m\u001b[43m,\u001b[49m\n\u001b[0;32m    232\u001b[0m \u001b[43m        \u001b[49m\u001b[43mcustom_objects\u001b[49m\u001b[38;5;241;43m=\u001b[39;49m\u001b[43mcustom_objects\u001b[49m\u001b[43m,\u001b[49m\n\u001b[0;32m    233\u001b[0m \u001b[43m        \u001b[49m\u001b[38;5;28;43mcompile\u001b[39;49m\u001b[38;5;241;43m=\u001b[39;49m\u001b[38;5;28;43mcompile\u001b[39;49m\u001b[43m,\u001b[49m\n\u001b[0;32m    234\u001b[0m \u001b[43m        \u001b[49m\u001b[43msafe_mode\u001b[49m\u001b[38;5;241;43m=\u001b[39;49m\u001b[43msafe_mode\u001b[49m\u001b[43m,\u001b[49m\n\u001b[0;32m    235\u001b[0m \u001b[43m    \u001b[49m\u001b[43m)\u001b[49m\n\u001b[0;32m    237\u001b[0m \u001b[38;5;66;03m# Legacy case.\u001b[39;00m\n\u001b[0;32m    238\u001b[0m \u001b[38;5;28;01mreturn\u001b[39;00m legacy_sm_saving_lib\u001b[38;5;241m.\u001b[39mload_model(\n\u001b[0;32m    239\u001b[0m     filepath, custom_objects\u001b[38;5;241m=\u001b[39mcustom_objects, \u001b[38;5;28mcompile\u001b[39m\u001b[38;5;241m=\u001b[39m\u001b[38;5;28mcompile\u001b[39m, \u001b[38;5;241m*\u001b[39m\u001b[38;5;241m*\u001b[39mkwargs\n\u001b[0;32m    240\u001b[0m )\n",
      "File \u001b[1;32m~\\PycharmProjects\\ClassificationProject\\Classification\\lib\\site-packages\\keras\\src\\saving\\saving_lib.py:275\u001b[0m, in \u001b[0;36mload_model\u001b[1;34m(filepath, custom_objects, compile, safe_mode)\u001b[0m\n\u001b[0;32m    272\u001b[0m             asset_store\u001b[38;5;241m.\u001b[39mclose()\n\u001b[0;32m    274\u001b[0m \u001b[38;5;28;01mexcept\u001b[39;00m \u001b[38;5;167;01mException\u001b[39;00m \u001b[38;5;28;01mas\u001b[39;00m e:\n\u001b[1;32m--> 275\u001b[0m     \u001b[38;5;28;01mraise\u001b[39;00m e\n\u001b[0;32m    276\u001b[0m \u001b[38;5;28;01melse\u001b[39;00m:\n\u001b[0;32m    277\u001b[0m     \u001b[38;5;28;01mreturn\u001b[39;00m model\n",
      "File \u001b[1;32m~\\PycharmProjects\\ClassificationProject\\Classification\\lib\\site-packages\\keras\\src\\saving\\saving_lib.py:240\u001b[0m, in \u001b[0;36mload_model\u001b[1;34m(filepath, custom_objects, compile, safe_mode)\u001b[0m\n\u001b[0;32m    238\u001b[0m \u001b[38;5;66;03m# Construct the model from the configuration file in the archive.\u001b[39;00m\n\u001b[0;32m    239\u001b[0m \u001b[38;5;28;01mwith\u001b[39;00m ObjectSharingScope():\n\u001b[1;32m--> 240\u001b[0m     model \u001b[38;5;241m=\u001b[39m \u001b[43mdeserialize_keras_object\u001b[49m\u001b[43m(\u001b[49m\n\u001b[0;32m    241\u001b[0m \u001b[43m        \u001b[49m\u001b[43mconfig_dict\u001b[49m\u001b[43m,\u001b[49m\u001b[43m \u001b[49m\u001b[43mcustom_objects\u001b[49m\u001b[43m,\u001b[49m\u001b[43m \u001b[49m\u001b[43msafe_mode\u001b[49m\u001b[38;5;241;43m=\u001b[39;49m\u001b[43msafe_mode\u001b[49m\n\u001b[0;32m    242\u001b[0m \u001b[43m    \u001b[49m\u001b[43m)\u001b[49m\n\u001b[0;32m    244\u001b[0m all_filenames \u001b[38;5;241m=\u001b[39m zf\u001b[38;5;241m.\u001b[39mnamelist()\n\u001b[0;32m    245\u001b[0m \u001b[38;5;28;01mif\u001b[39;00m _VARS_FNAME \u001b[38;5;241m+\u001b[39m \u001b[38;5;124m\"\u001b[39m\u001b[38;5;124m.h5\u001b[39m\u001b[38;5;124m\"\u001b[39m \u001b[38;5;129;01min\u001b[39;00m all_filenames:\n",
      "File \u001b[1;32m~\\PycharmProjects\\ClassificationProject\\Classification\\lib\\site-packages\\keras\\src\\saving\\serialization_lib.py:704\u001b[0m, in \u001b[0;36mdeserialize_keras_object\u001b[1;34m(config, custom_objects, safe_mode, **kwargs)\u001b[0m\n\u001b[0;32m    702\u001b[0m safe_mode_scope \u001b[38;5;241m=\u001b[39m SafeModeScope(safe_mode)\n\u001b[0;32m    703\u001b[0m \u001b[38;5;28;01mwith\u001b[39;00m custom_obj_scope, safe_mode_scope:\n\u001b[1;32m--> 704\u001b[0m     instance \u001b[38;5;241m=\u001b[39m \u001b[38;5;28;43mcls\u001b[39;49m\u001b[38;5;241;43m.\u001b[39;49m\u001b[43mfrom_config\u001b[49m\u001b[43m(\u001b[49m\u001b[43minner_config\u001b[49m\u001b[43m)\u001b[49m\n\u001b[0;32m    705\u001b[0m     build_config \u001b[38;5;241m=\u001b[39m config\u001b[38;5;241m.\u001b[39mget(\u001b[38;5;124m\"\u001b[39m\u001b[38;5;124mbuild_config\u001b[39m\u001b[38;5;124m\"\u001b[39m, \u001b[38;5;28;01mNone\u001b[39;00m)\n\u001b[0;32m    706\u001b[0m     \u001b[38;5;28;01mif\u001b[39;00m build_config:\n",
      "File \u001b[1;32m~\\PycharmProjects\\ClassificationProject\\Classification\\lib\\site-packages\\keras\\src\\engine\\sequential.py:478\u001b[0m, in \u001b[0;36mSequential.from_config\u001b[1;34m(cls, config, custom_objects)\u001b[0m\n\u001b[0;32m    472\u001b[0m     use_legacy_format \u001b[38;5;241m=\u001b[39m \u001b[38;5;124m\"\u001b[39m\u001b[38;5;124mmodule\u001b[39m\u001b[38;5;124m\"\u001b[39m \u001b[38;5;129;01mnot\u001b[39;00m \u001b[38;5;129;01min\u001b[39;00m layer_config\n\u001b[0;32m    473\u001b[0m     layer \u001b[38;5;241m=\u001b[39m layer_module\u001b[38;5;241m.\u001b[39mdeserialize(\n\u001b[0;32m    474\u001b[0m         layer_config,\n\u001b[0;32m    475\u001b[0m         custom_objects\u001b[38;5;241m=\u001b[39mcustom_objects,\n\u001b[0;32m    476\u001b[0m         use_legacy_format\u001b[38;5;241m=\u001b[39muse_legacy_format,\n\u001b[0;32m    477\u001b[0m     )\n\u001b[1;32m--> 478\u001b[0m     \u001b[43mmodel\u001b[49m\u001b[38;5;241;43m.\u001b[39;49m\u001b[43madd\u001b[49m\u001b[43m(\u001b[49m\u001b[43mlayer\u001b[49m\u001b[43m)\u001b[49m\n\u001b[0;32m    480\u001b[0m \u001b[38;5;28;01mif\u001b[39;00m (\n\u001b[0;32m    481\u001b[0m     \u001b[38;5;129;01mnot\u001b[39;00m model\u001b[38;5;241m.\u001b[39minputs\n\u001b[0;32m    482\u001b[0m     \u001b[38;5;129;01mand\u001b[39;00m build_input_shape\n\u001b[0;32m    483\u001b[0m     \u001b[38;5;129;01mand\u001b[39;00m \u001b[38;5;28misinstance\u001b[39m(build_input_shape, (\u001b[38;5;28mtuple\u001b[39m, \u001b[38;5;28mlist\u001b[39m))\n\u001b[0;32m    484\u001b[0m ):\n\u001b[0;32m    485\u001b[0m     model\u001b[38;5;241m.\u001b[39mbuild(build_input_shape)\n",
      "File \u001b[1;32m~\\PycharmProjects\\ClassificationProject\\Classification\\lib\\site-packages\\tensorflow\\python\\trackable\\base.py:204\u001b[0m, in \u001b[0;36mno_automatic_dependency_tracking.<locals>._method_wrapper\u001b[1;34m(self, *args, **kwargs)\u001b[0m\n\u001b[0;32m    202\u001b[0m \u001b[38;5;28mself\u001b[39m\u001b[38;5;241m.\u001b[39m_self_setattr_tracking \u001b[38;5;241m=\u001b[39m \u001b[38;5;28;01mFalse\u001b[39;00m  \u001b[38;5;66;03m# pylint: disable=protected-access\u001b[39;00m\n\u001b[0;32m    203\u001b[0m \u001b[38;5;28;01mtry\u001b[39;00m:\n\u001b[1;32m--> 204\u001b[0m   result \u001b[38;5;241m=\u001b[39m method(\u001b[38;5;28mself\u001b[39m, \u001b[38;5;241m*\u001b[39margs, \u001b[38;5;241m*\u001b[39m\u001b[38;5;241m*\u001b[39mkwargs)\n\u001b[0;32m    205\u001b[0m \u001b[38;5;28;01mfinally\u001b[39;00m:\n\u001b[0;32m    206\u001b[0m   \u001b[38;5;28mself\u001b[39m\u001b[38;5;241m.\u001b[39m_self_setattr_tracking \u001b[38;5;241m=\u001b[39m previous_value  \u001b[38;5;66;03m# pylint: disable=protected-access\u001b[39;00m\n",
      "File \u001b[1;32m~\\PycharmProjects\\ClassificationProject\\Classification\\lib\\site-packages\\keras\\src\\utils\\traceback_utils.py:70\u001b[0m, in \u001b[0;36mfilter_traceback.<locals>.error_handler\u001b[1;34m(*args, **kwargs)\u001b[0m\n\u001b[0;32m     67\u001b[0m     filtered_tb \u001b[38;5;241m=\u001b[39m _process_traceback_frames(e\u001b[38;5;241m.\u001b[39m__traceback__)\n\u001b[0;32m     68\u001b[0m     \u001b[38;5;66;03m# To get the full stack trace, call:\u001b[39;00m\n\u001b[0;32m     69\u001b[0m     \u001b[38;5;66;03m# `tf.debugging.disable_traceback_filtering()`\u001b[39;00m\n\u001b[1;32m---> 70\u001b[0m     \u001b[38;5;28;01mraise\u001b[39;00m e\u001b[38;5;241m.\u001b[39mwith_traceback(filtered_tb) \u001b[38;5;28;01mfrom\u001b[39;00m \u001b[38;5;28;01mNone\u001b[39;00m\n\u001b[0;32m     71\u001b[0m \u001b[38;5;28;01mfinally\u001b[39;00m:\n\u001b[0;32m     72\u001b[0m     \u001b[38;5;28;01mdel\u001b[39;00m filtered_tb\n",
      "File \u001b[1;32m~\\PycharmProjects\\ClassificationProject\\Classification\\lib\\site-packages\\keras\\src\\engine\\sequential.py:185\u001b[0m, in \u001b[0;36mSequential.add\u001b[1;34m(self, layer)\u001b[0m\n\u001b[0;32m    183\u001b[0m         layer \u001b[38;5;241m=\u001b[39m functional\u001b[38;5;241m.\u001b[39mModuleWrapper(layer)\n\u001b[0;32m    184\u001b[0m \u001b[38;5;28;01melse\u001b[39;00m:\n\u001b[1;32m--> 185\u001b[0m     \u001b[38;5;28;01mraise\u001b[39;00m \u001b[38;5;167;01mTypeError\u001b[39;00m(\n\u001b[0;32m    186\u001b[0m         \u001b[38;5;124m\"\u001b[39m\u001b[38;5;124mThe added layer must be an instance of class Layer. \u001b[39m\u001b[38;5;124m\"\u001b[39m\n\u001b[0;32m    187\u001b[0m         \u001b[38;5;124mf\u001b[39m\u001b[38;5;124m\"\u001b[39m\u001b[38;5;124mReceived: layer=\u001b[39m\u001b[38;5;132;01m{\u001b[39;00mlayer\u001b[38;5;132;01m}\u001b[39;00m\u001b[38;5;124m of type \u001b[39m\u001b[38;5;132;01m{\u001b[39;00m\u001b[38;5;28mtype\u001b[39m(layer)\u001b[38;5;132;01m}\u001b[39;00m\u001b[38;5;124m.\u001b[39m\u001b[38;5;124m\"\u001b[39m\n\u001b[0;32m    188\u001b[0m     )\n\u001b[0;32m    190\u001b[0m tf_utils\u001b[38;5;241m.\u001b[39massert_no_legacy_layers([layer])\n\u001b[0;32m    191\u001b[0m \u001b[38;5;28;01mif\u001b[39;00m \u001b[38;5;129;01mnot\u001b[39;00m \u001b[38;5;28mself\u001b[39m\u001b[38;5;241m.\u001b[39m_is_layer_name_unique(layer):\n",
      "\u001b[1;31mTypeError\u001b[0m: The added layer must be an instance of class Layer. Received: layer=KerasLayer of type <class 'str'>."
     ]
    }
   ],
   "source": [
    "\n",
    "model2 = keras.models.load_model('Weights/naturalist_30.keras')"
   ]
  },
  {
   "cell_type": "code",
   "execution_count": null,
   "id": "8df227f6",
   "metadata": {
    "collapsed": false,
    "jupyter": {
     "outputs_hidden": false
    }
   },
   "outputs": [],
   "source": [
    "drop_model = models.Sequential()\n",
    "drop_model.add(layers.Dense(64, activation='relu', input_shape=(NB_WORDS,)))\n",
    "drop_model.add(layers.Dropout(0.5))\n",
    "drop_model.add(layers.Dense(64, activation='relu'))\n",
    "drop_model.add(layers.Dropout(0.5))\n",
    "drop_model.add(layers.Dense(3, activation='softmax'))\n",
    "drop_model.name = 'Dropout layers model'\n",
    "drop_history = deep_model(drop_model, X_train_rest, y_train_rest, X_valid, y_valid)\n",
    "drop_min = optimal_epoch(drop_history)\n",
    "eval_metric(drop_model, drop_history, 'loss')"
   ]
  }
 ],
 "metadata": {
  "kernelspec": {
   "display_name": "Classification",
   "language": "python",
   "name": "classification"
  },
  "language_info": {
   "codemirror_mode": {
    "name": "ipython",
    "version": 3
   },
   "file_extension": ".py",
   "mimetype": "text/x-python",
   "name": "python",
   "nbconvert_exporter": "python",
   "pygments_lexer": "ipython3",
   "version": "3.9.13"
  }
 },
 "nbformat": 4,
 "nbformat_minor": 5
}
